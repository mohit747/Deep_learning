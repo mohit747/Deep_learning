{
  "nbformat": 4,
  "nbformat_minor": 0,
  "metadata": {
    "colab": {
      "name": "deepLearning_2.ipynb",
      "provenance": [],
      "collapsed_sections": [],
      "authorship_tag": "ABX9TyN4Gc4NrbBGrkyn+vC9tPXg",
      "include_colab_link": true
    },
    "kernelspec": {
      "name": "python3",
      "display_name": "Python 3"
    },
    "language_info": {
      "name": "python"
    }
  },
  "cells": [
    {
      "cell_type": "markdown",
      "metadata": {
        "id": "view-in-github",
        "colab_type": "text"
      },
      "source": [
        "<a href=\"https://colab.research.google.com/github/mohit747/Deep_learning/blob/main/deepLearning_2.ipynb\" target=\"_parent\"><img src=\"https://colab.research.google.com/assets/colab-badge.svg\" alt=\"Open In Colab\"/></a>"
      ]
    },
    {
      "cell_type": "code",
      "metadata": {
        "id": "BzGGOJeYhW7S"
      },
      "source": [
        "import tensorflow as tf\n",
        "from tensorflow import keras"
      ],
      "execution_count": 1,
      "outputs": []
    },
    {
      "cell_type": "code",
      "metadata": {
        "id": "av-majb-hZSs"
      },
      "source": [
        "x = [ 2, 1, 0, -1, -2, -1, 0 ,1, 2 , 1 ,0, -1] # Analog sine wave input\n",
        "y = [ 1, 1, 0, -1 , -1 , -1  ,0, 1, 1, 1 , 0 , -1] # digital output\n",
        "layer1 = keras.layers.Dense(1, activation=tf.nn.relu)\n",
        "# ReLU=> y=x, if x >0, y=0, if x <=0\n",
        "\n",
        "model = keras.models.Sequential([layer1])\n",
        "model.compile(loss= keras.losses.mae, optimizer='adam', metrics=[keras.metrics.mean_squared_error])"
      ],
      "execution_count": 2,
      "outputs": []
    },
    {
      "cell_type": "code",
      "metadata": {
        "colab": {
          "base_uri": "https://localhost:8080/"
        },
        "id": "n4_DUXIrhb0G",
        "outputId": "f0d09648-4645-416e-bb98-47d125151a86"
      },
      "source": [
        "model.fit(x,y,epochs=300, verbose=0)\n",
        "predictions = model.predict(x)\n",
        "print(predictions)"
      ],
      "execution_count": 3,
      "outputs": [
        {
          "output_type": "stream",
          "text": [
            "[[0.        ]\n",
            " [0.        ]\n",
            " [0.        ]\n",
            " [0.04351118]\n",
            " [0.38702193]\n",
            " [0.04351118]\n",
            " [0.        ]\n",
            " [0.        ]\n",
            " [0.        ]\n",
            " [0.        ]\n",
            " [0.        ]\n",
            " [0.04351118]]\n"
          ],
          "name": "stdout"
        }
      ]
    },
    {
      "cell_type": "code",
      "metadata": {
        "colab": {
          "base_uri": "https://localhost:8080/"
        },
        "id": "f9ewzJDJhfcd",
        "outputId": "4319861f-ff17-4535-e47e-ef6b0c645adf"
      },
      "source": [
        "model.get_weights()\n",
        "# trainable_params = input_size * output_size + output_size\n",
        "# 1 X 1 + 1= 2\n",
        "# regression neural network"
      ],
      "execution_count": 4,
      "outputs": [
        {
          "output_type": "execute_result",
          "data": {
            "text/plain": [
              "[array([[-0.34351075]], dtype=float32), array([-0.29999956], dtype=float32)]"
            ]
          },
          "metadata": {
            "tags": []
          },
          "execution_count": 4
        }
      ]
    },
    {
      "cell_type": "code",
      "metadata": {
        "id": "4gLS4Fh6hjDl"
      },
      "source": [
        "x = [ 2, 1, 0, -1, -2, -1, 0 ,1, 2 , 1 ,0, -1] # Analog sine wave input\n",
        "y = [ 1, 1, 0, -1 , -1 , -1  ,0, 1, 1, 1 , 0 , -1] # digital output\n",
        "layer1 = keras.layers.Dense(2)\n",
        "# ReLU=> y=x, if x >0, y=0, if x <=0\n",
        "# 0 and 1 -> should be 0th position < 1st position, or vice versa \n",
        "model = keras.models.Sequential([layer1])\n",
        "model.compile(loss= keras.losses.mae, optimizer='adam', metrics=[keras.metrics.mean_squared_error])"
      ],
      "execution_count": 5,
      "outputs": []
    },
    {
      "cell_type": "code",
      "metadata": {
        "colab": {
          "base_uri": "https://localhost:8080/"
        },
        "id": "pLTPpqXOhnc6",
        "outputId": "f98676fd-13e3-4c09-ef37-c48f2bf5ba82"
      },
      "source": [
        "model.fit(x,y,epochs=100, verbose=0)\n",
        "predictions = model.predict(x)\n",
        "#print(predictions)\n",
        "# First output-> for positives, 1st position-> negative\n",
        "for prediction in predictions:\n",
        "  if prediction[0] < prediction[1]:\n",
        "    print('positive')\n",
        "  if prediction[0] > prediction[1]:\n",
        "    print('negative')\n",
        "  if prediction[0] == prediction[1]:\n",
        "    print('zero')"
      ],
      "execution_count": 12,
      "outputs": [
        {
          "output_type": "stream",
          "text": [
            "positive\n",
            "positive\n",
            "zero\n",
            "negative\n",
            "negative\n",
            "negative\n",
            "zero\n",
            "positive\n",
            "positive\n",
            "positive\n",
            "zero\n",
            "negative\n"
          ],
          "name": "stdout"
        }
      ]
    },
    {
      "cell_type": "code",
      "metadata": {
        "colab": {
          "base_uri": "https://localhost:8080/"
        },
        "id": "nbQCBRpqhqAx",
        "outputId": "11434af1-b010-49b0-d986-86872f0f0599"
      },
      "source": [
        "predictions"
      ],
      "execution_count": 13,
      "outputs": [
        {
          "output_type": "execute_result",
          "data": {
            "text/plain": [
              "array([[-1.4473116e+00,  5.1209599e-01],\n",
              "       [-7.2334599e-01,  2.5635779e-01],\n",
              "       [ 6.1962602e-04,  6.1962602e-04],\n",
              "       [ 7.2458529e-01, -2.5511855e-01],\n",
              "       [ 1.4485509e+00, -5.1085669e-01],\n",
              "       [ 7.2458529e-01, -2.5511855e-01],\n",
              "       [ 6.1962602e-04,  6.1962602e-04],\n",
              "       [-7.2334599e-01,  2.5635779e-01],\n",
              "       [-1.4473116e+00,  5.1209599e-01],\n",
              "       [-7.2334599e-01,  2.5635779e-01],\n",
              "       [ 6.1962602e-04,  6.1962602e-04],\n",
              "       [ 7.2458529e-01, -2.5511855e-01]], dtype=float32)"
            ]
          },
          "metadata": {
            "tags": []
          },
          "execution_count": 13
        }
      ]
    },
    {
      "cell_type": "code",
      "metadata": {
        "id": "XPauFQv3h8-d"
      },
      "source": [
        "# users provide 2 entities:\n",
        "# input set -> parameters\n",
        "# output set [if missing-> unsupervised learning!]\n",
        "# anything modified by developers-> hyperparameter\n",
        "# no. of output dimensions-> i was manipulating!\n",
        "# loss functions, optimizer functions-> i was adjusting \n",
        "# EPOCHS-> how many iterations?"
      ],
      "execution_count": 8,
      "outputs": []
    },
    {
      "cell_type": "code",
      "metadata": {
        "id": "NWyihVH2h-9t"
      },
      "source": [
        "xtest = [ -3, -4, -3, -2, -1, 0]"
      ],
      "execution_count": 14,
      "outputs": []
    },
    {
      "cell_type": "code",
      "metadata": {
        "id": "96-xFOCgiCPx"
      },
      "source": [
        "newpredictions = model.predict(xtest)"
      ],
      "execution_count": 15,
      "outputs": []
    },
    {
      "cell_type": "code",
      "metadata": {
        "colab": {
          "base_uri": "https://localhost:8080/"
        },
        "id": "tnv7hZlniEKZ",
        "outputId": "5a53cbf5-77fe-4f96-cc57-592e8be296d5"
      },
      "source": [
        "for prediction in  newpredictions:\n",
        "  if prediction[0] < prediction[1]:\n",
        "    print('positive')\n",
        "  if prediction[0] > prediction[1]:\n",
        "    print('negative')\n",
        "  if prediction[0] == prediction[1]:\n",
        "    print('zero')"
      ],
      "execution_count": 17,
      "outputs": [
        {
          "output_type": "stream",
          "text": [
            "negative\n",
            "negative\n",
            "negative\n",
            "negative\n",
            "negative\n",
            "zero\n"
          ],
          "name": "stdout"
        }
      ]
    },
    {
      "cell_type": "code",
      "metadata": {
        "id": "rPhcjQFHiGbt"
      },
      "source": [
        "x = [ 2, 1, 0, -1, -2, -1, 0 ,1, 2 , 1 ,0, -1] # Analog sine wave input\n",
        "y = [ 1, 1, 0, -1 , -1 , -1  ,0, 1, 1, 1 , 0 , -1] # digital output\n",
        "layer1 = keras.layers.Dense(2, activation = tf.nn.softmax)\n",
        "# ReLU=> y=x, if x >0, y=0, if x <=0\n",
        "# 0 and 1 -> should be 0th position < 1st position, or vice versa \n",
        "model = keras.models.Sequential([layer1])\n",
        "model.compile(loss= keras.losses.categorical_crossentropy, optimizer='adam')"
      ],
      "execution_count": 18,
      "outputs": []
    },
    {
      "cell_type": "code",
      "metadata": {
        "id": "uqsGO8a7luKH"
      },
      "source": [
        "predictions = model.predict(x)"
      ],
      "execution_count": 19,
      "outputs": []
    },
    {
      "cell_type": "code",
      "metadata": {
        "colab": {
          "base_uri": "https://localhost:8080/"
        },
        "id": "PBKIFmi8lwKw",
        "outputId": "eb49c6f6-922b-4b0c-d437-15dbd1e7c1c3"
      },
      "source": [
        "\n",
        "predictions"
      ],
      "execution_count": 20,
      "outputs": [
        {
          "output_type": "execute_result",
          "data": {
            "text/plain": [
              "array([[0.92940813, 0.07059187],\n",
              "       [0.7839468 , 0.2160532 ],\n",
              "       [0.5       , 0.5       ],\n",
              "       [0.2160532 , 0.7839468 ],\n",
              "       [0.07059187, 0.92940813],\n",
              "       [0.2160532 , 0.7839468 ],\n",
              "       [0.5       , 0.5       ],\n",
              "       [0.7839468 , 0.2160532 ],\n",
              "       [0.92940813, 0.07059187],\n",
              "       [0.7839468 , 0.2160532 ],\n",
              "       [0.5       , 0.5       ],\n",
              "       [0.2160532 , 0.7839468 ]], dtype=float32)"
            ]
          },
          "metadata": {
            "tags": []
          },
          "execution_count": 20
        }
      ]
    },
    {
      "cell_type": "code",
      "metadata": {
        "id": "5uVMT0IxlyaR"
      },
      "source": [
        "x = [ 2, 1, 0, -1, -2, -1, 0 ,1, 2 , 1 ,0, -1] # Analog sine wave input\n",
        "y = [ 1, 1, 0, -1 , -1 , -1  ,0, 1, 1, 1 , 0 , -1] # digital output\n",
        "layer1 = keras.layers.Dense(1, activation = tf.nn.tanh)\n",
        "# tanh=> from -1 to +1 \n",
        "model = keras.models.Sequential([layer1])\n",
        "model.compile(loss= keras.losses.categorical_crossentropy, optimizer='adam')"
      ],
      "execution_count": 21,
      "outputs": []
    },
    {
      "cell_type": "code",
      "metadata": {
        "colab": {
          "base_uri": "https://localhost:8080/"
        },
        "id": "L426jPAus45O",
        "outputId": "34b607d1-9cb2-46c3-e411-12e5b7bcda38"
      },
      "source": [
        "\n",
        "predictions = model.predict(x)\n",
        "predictions"
      ],
      "execution_count": 22,
      "outputs": [
        {
          "output_type": "execute_result",
          "data": {
            "text/plain": [
              "array([[-0.9928201],\n",
              "       [-0.8867492],\n",
              "       [ 0.       ],\n",
              "       [ 0.8867492],\n",
              "       [ 0.9928201],\n",
              "       [ 0.8867492],\n",
              "       [ 0.       ],\n",
              "       [-0.8867492],\n",
              "       [-0.9928201],\n",
              "       [-0.8867492],\n",
              "       [ 0.       ],\n",
              "       [ 0.8867492]], dtype=float32)"
            ]
          },
          "metadata": {
            "tags": []
          },
          "execution_count": 22
        }
      ]
    },
    {
      "cell_type": "code",
      "metadata": {
        "colab": {
          "base_uri": "https://localhost:8080/"
        },
        "id": "NZKeFwjYs61Q",
        "outputId": "a0e35880-206a-4361-e9d0-1977a2cf4921"
      },
      "source": [
        "for prediction in predictions:\n",
        "  if prediction > 0:\n",
        "    print ('pos')\n",
        "  if prediction < 0:\n",
        "    print ('neg')\n",
        "  if prediction == 0:\n",
        "    print ('zero')"
      ],
      "execution_count": 23,
      "outputs": [
        {
          "output_type": "stream",
          "text": [
            "neg\n",
            "neg\n",
            "zero\n",
            "pos\n",
            "pos\n",
            "pos\n",
            "zero\n",
            "neg\n",
            "neg\n",
            "neg\n",
            "zero\n",
            "pos\n"
          ],
          "name": "stdout"
        }
      ]
    },
    {
      "cell_type": "code",
      "metadata": {
        "id": "O7e4vBiEs-rc"
      },
      "source": [
        "# ReLU-> y =  x if x>0, y=0 if x<=0 \n",
        "# SoftMax-> probab distribution => sum(all_elements) = 1\n",
        "# TanH-> -1 to 1\n",
        "# tan => pi/2-> inf and -pi/2-> inf\n",
        "# tanh-> tan -> 90 deg rotation \n",
        "# tanh -> pi/2 and -pi/2 -> 1 and -1 respectively\n",
        "#        x axis takes infinity!"
      ],
      "execution_count": 24,
      "outputs": []
    },
    {
      "cell_type": "code",
      "metadata": {
        "id": "JYAx1llktBFb"
      },
      "source": [
        "# tanh scaled b/w 0 to 1\n",
        "# Probability-> Sigmoid\n",
        "x = [ 2, 1, 0, -1, -2, -1, 0 ,1, 2 , 1 ,0, -1] # Analog sine wave input\n",
        "y = [ 1, 1, 0, -1 , -1 , -1  ,0, 1, 1, 1 , 0 , -1] # digital output\n",
        "layer1 = keras.layers.Dense(1, activation = tf.nn.sigmoid)\n",
        "# tanh=> from -1 to +1 \n",
        "model = keras.models.Sequential([layer1])\n",
        "model.compile(loss= keras.losses.categorical_crossentropy, optimizer='adam')"
      ],
      "execution_count": 25,
      "outputs": []
    },
    {
      "cell_type": "code",
      "metadata": {
        "colab": {
          "base_uri": "https://localhost:8080/"
        },
        "id": "mTe-05YltDTM",
        "outputId": "ba55ecb6-44a8-4827-eb63-a519c44a41d2"
      },
      "source": [
        "predictions = model.predict(x)\n",
        "predictions\n"
      ],
      "execution_count": 26,
      "outputs": [
        {
          "output_type": "stream",
          "text": [
            "WARNING:tensorflow:5 out of the last 8 calls to <function Model.make_predict_function.<locals>.predict_function at 0x7fcd58288830> triggered tf.function retracing. Tracing is expensive and the excessive number of tracings could be due to (1) creating @tf.function repeatedly in a loop, (2) passing tensors with different shapes, (3) passing Python objects instead of tensors. For (1), please define your @tf.function outside of the loop. For (2), @tf.function has experimental_relax_shapes=True option that relaxes argument shapes that can avoid unnecessary retracing. For (3), please refer to https://www.tensorflow.org/guide/function#controlling_retracing and https://www.tensorflow.org/api_docs/python/tf/function for  more details.\n"
          ],
          "name": "stdout"
        },
        {
          "output_type": "execute_result",
          "data": {
            "text/plain": [
              "array([[0.2729602],\n",
              "       [0.3799342],\n",
              "       [0.5      ],\n",
              "       [0.6200658],\n",
              "       [0.7270398],\n",
              "       [0.6200658],\n",
              "       [0.5      ],\n",
              "       [0.3799342],\n",
              "       [0.2729602],\n",
              "       [0.3799342],\n",
              "       [0.5      ],\n",
              "       [0.6200658]], dtype=float32)"
            ]
          },
          "metadata": {
            "tags": []
          },
          "execution_count": 26
        }
      ]
    },
    {
      "cell_type": "code",
      "metadata": {
        "colab": {
          "base_uri": "https://localhost:8080/"
        },
        "id": "SZONJ5UTtGPy",
        "outputId": "a1bce483-fcad-4eb4-8178-307be392e23a"
      },
      "source": [
        "for prediction in predictions:\n",
        "  if prediction < 0.5:\n",
        "    print ('pos')\n",
        "  if prediction > 0.5:\n",
        "    print ('neg')\n",
        "  if prediction == 0.5:\n",
        "    print ('zero')"
      ],
      "execution_count": 27,
      "outputs": [
        {
          "output_type": "stream",
          "text": [
            "pos\n",
            "pos\n",
            "zero\n",
            "neg\n",
            "neg\n",
            "neg\n",
            "zero\n",
            "pos\n",
            "pos\n",
            "pos\n",
            "zero\n",
            "neg\n"
          ],
          "name": "stdout"
        }
      ]
    },
    {
      "cell_type": "code",
      "metadata": {
        "id": "E0LQYaJZtLKp"
      },
      "source": [
        "# normalization\n",
        "# my general guideline!\n",
        "# probability (distribution/multi-classification)-> softmax \n",
        "# profit/loss/comparisons-> tanh\n",
        "# regressions/color/no-neg nos. allowed-> ReLU\n",
        "# binary classification -> sigmoid"
      ],
      "execution_count": 28,
      "outputs": []
    },
    {
      "cell_type": "code",
      "metadata": {
        "id": "l4TM8jz8tOGI"
      },
      "source": [
        ""
      ],
      "execution_count": null,
      "outputs": []
    }
  ]
}