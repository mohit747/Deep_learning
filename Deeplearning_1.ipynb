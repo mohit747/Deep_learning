{
  "nbformat": 4,
  "nbformat_minor": 0,
  "metadata": {
    "colab": {
      "name": "Deeplearning_1.ipynb",
      "provenance": [],
      "authorship_tag": "ABX9TyNZ28vSS+YVR2uo8tV+vRpI",
      "include_colab_link": true
    },
    "kernelspec": {
      "name": "python3",
      "display_name": "Python 3"
    },
    "language_info": {
      "name": "python"
    }
  },
  "cells": [
    {
      "cell_type": "markdown",
      "metadata": {
        "id": "view-in-github",
        "colab_type": "text"
      },
      "source": [
        "<a href=\"https://colab.research.google.com/github/mohit747/Deep_learning/blob/main/Deeplearning_1.ipynb\" target=\"_parent\"><img src=\"https://colab.research.google.com/assets/colab-badge.svg\" alt=\"Open In Colab\"/></a>"
      ]
    },
    {
      "cell_type": "code",
      "metadata": {
        "id": "ImIi2r5OhqlN"
      },
      "source": [
        "# Agenda-> Neural Networks\n",
        "# Tensorflow\n",
        "# TF 2.x \n",
        "\n",
        "# Computer Vision\n",
        "# Natural LP\n",
        "# SIGNAL"
      ],
      "execution_count": null,
      "outputs": []
    },
    {
      "cell_type": "code",
      "metadata": {
        "id": "Yn5DLOb9hxR3"
      },
      "source": [
        "\n",
        "import tensorflow as tf"
      ],
      "execution_count": null,
      "outputs": []
    },
    {
      "cell_type": "code",
      "metadata": {
        "id": "kgBmcb8Uh1AF"
      },
      "source": [
        "import tensorflow as tf"
      ],
      "execution_count": null,
      "outputs": []
    },
    {
      "cell_type": "code",
      "metadata": {
        "id": "u70ac_QBh39s"
      },
      "source": [
        "import numpy as np\n",
        "x = np.array([1,2,3,4,5,6,7,8, 9 ,10])\n",
        "y = np.array([0,1,0,1,0,1,0,1,0,1])"
      ],
      "execution_count": null,
      "outputs": []
    },
    {
      "cell_type": "code",
      "metadata": {
        "id": "NQfQYGvjh7qc"
      },
      "source": [
        "from tensorflow import keras"
      ],
      "execution_count": null,
      "outputs": []
    },
    {
      "cell_type": "code",
      "metadata": {
        "id": "zH0_RxvKh_L7"
      },
      "source": [
        "layer1 = keras.layers.Dense(1)"
      ],
      "execution_count": null,
      "outputs": []
    },
    {
      "cell_type": "code",
      "metadata": {
        "id": "lUqsOBSaiCr5"
      },
      "source": [
        "model = keras.models.Sequential([layer1])"
      ],
      "execution_count": null,
      "outputs": []
    },
    {
      "cell_type": "code",
      "metadata": {
        "id": "5frKBeuuiF9o"
      },
      "source": [
        "model.compile(loss= keras.losses.mean_squared_error, optimizer='adam', metrics=[keras.metrics.mean_squared_error])"
      ],
      "execution_count": null,
      "outputs": []
    },
    {
      "cell_type": "code",
      "metadata": {
        "colab": {
          "base_uri": "https://localhost:8080/"
        },
        "id": "4gonU0KSiJiv",
        "outputId": "4114c9b9-6999-40bf-d13f-2a641958f6c2"
      },
      "source": [
        "history = model.fit(x, y, epochs=50)"
      ],
      "execution_count": null,
      "outputs": [
        {
          "output_type": "stream",
          "text": [
            "Epoch 1/50\n",
            "1/1 [==============================] - 1s 641ms/step - loss: 1.6502 - mean_squared_error: 1.6502\n",
            "Epoch 2/50\n",
            "1/1 [==============================] - 0s 6ms/step - loss: 1.6334 - mean_squared_error: 1.6334\n",
            "Epoch 3/50\n",
            "1/1 [==============================] - 0s 7ms/step - loss: 1.6167 - mean_squared_error: 1.6167\n",
            "Epoch 4/50\n",
            "1/1 [==============================] - 0s 7ms/step - loss: 1.6002 - mean_squared_error: 1.6002\n",
            "Epoch 5/50\n",
            "1/1 [==============================] - 0s 4ms/step - loss: 1.5837 - mean_squared_error: 1.5837\n",
            "Epoch 6/50\n",
            "1/1 [==============================] - 0s 7ms/step - loss: 1.5674 - mean_squared_error: 1.5674\n",
            "Epoch 7/50\n",
            "1/1 [==============================] - 0s 9ms/step - loss: 1.5511 - mean_squared_error: 1.5511\n",
            "Epoch 8/50\n",
            "1/1 [==============================] - 0s 10ms/step - loss: 1.5350 - mean_squared_error: 1.5350\n",
            "Epoch 9/50\n",
            "1/1 [==============================] - 0s 7ms/step - loss: 1.5190 - mean_squared_error: 1.5190\n",
            "Epoch 10/50\n",
            "1/1 [==============================] - 0s 6ms/step - loss: 1.5031 - mean_squared_error: 1.5031\n",
            "Epoch 11/50\n",
            "1/1 [==============================] - 0s 8ms/step - loss: 1.4873 - mean_squared_error: 1.4873\n",
            "Epoch 12/50\n",
            "1/1 [==============================] - 0s 10ms/step - loss: 1.4716 - mean_squared_error: 1.4716\n",
            "Epoch 13/50\n",
            "1/1 [==============================] - 0s 14ms/step - loss: 1.4561 - mean_squared_error: 1.4561\n",
            "Epoch 14/50\n",
            "1/1 [==============================] - 0s 5ms/step - loss: 1.4406 - mean_squared_error: 1.4406\n",
            "Epoch 15/50\n",
            "1/1 [==============================] - 0s 4ms/step - loss: 1.4253 - mean_squared_error: 1.4253\n",
            "Epoch 16/50\n",
            "1/1 [==============================] - 0s 5ms/step - loss: 1.4102 - mean_squared_error: 1.4102\n",
            "Epoch 17/50\n",
            "1/1 [==============================] - 0s 10ms/step - loss: 1.3951 - mean_squared_error: 1.3951\n",
            "Epoch 18/50\n",
            "1/1 [==============================] - 0s 6ms/step - loss: 1.3802 - mean_squared_error: 1.3802\n",
            "Epoch 19/50\n",
            "1/1 [==============================] - 0s 6ms/step - loss: 1.3654 - mean_squared_error: 1.3654\n",
            "Epoch 20/50\n",
            "1/1 [==============================] - 0s 7ms/step - loss: 1.3507 - mean_squared_error: 1.3507\n",
            "Epoch 21/50\n",
            "1/1 [==============================] - 0s 6ms/step - loss: 1.3361 - mean_squared_error: 1.3361\n",
            "Epoch 22/50\n",
            "1/1 [==============================] - 0s 7ms/step - loss: 1.3217 - mean_squared_error: 1.3217\n",
            "Epoch 23/50\n",
            "1/1 [==============================] - 0s 5ms/step - loss: 1.3074 - mean_squared_error: 1.3074\n",
            "Epoch 24/50\n",
            "1/1 [==============================] - 0s 6ms/step - loss: 1.2932 - mean_squared_error: 1.2932\n",
            "Epoch 25/50\n",
            "1/1 [==============================] - 0s 7ms/step - loss: 1.2792 - mean_squared_error: 1.2792\n",
            "Epoch 26/50\n",
            "1/1 [==============================] - 0s 4ms/step - loss: 1.2652 - mean_squared_error: 1.2652\n",
            "Epoch 27/50\n",
            "1/1 [==============================] - 0s 8ms/step - loss: 1.2514 - mean_squared_error: 1.2514\n",
            "Epoch 28/50\n",
            "1/1 [==============================] - 0s 5ms/step - loss: 1.2378 - mean_squared_error: 1.2378\n",
            "Epoch 29/50\n",
            "1/1 [==============================] - 0s 5ms/step - loss: 1.2243 - mean_squared_error: 1.2243\n",
            "Epoch 30/50\n",
            "1/1 [==============================] - 0s 9ms/step - loss: 1.2109 - mean_squared_error: 1.2109\n",
            "Epoch 31/50\n",
            "1/1 [==============================] - 0s 4ms/step - loss: 1.1976 - mean_squared_error: 1.1976\n",
            "Epoch 32/50\n",
            "1/1 [==============================] - 0s 7ms/step - loss: 1.1845 - mean_squared_error: 1.1845\n",
            "Epoch 33/50\n",
            "1/1 [==============================] - 0s 4ms/step - loss: 1.1714 - mean_squared_error: 1.1714\n",
            "Epoch 34/50\n",
            "1/1 [==============================] - 0s 7ms/step - loss: 1.1586 - mean_squared_error: 1.1586\n",
            "Epoch 35/50\n",
            "1/1 [==============================] - 0s 8ms/step - loss: 1.1458 - mean_squared_error: 1.1458\n",
            "Epoch 36/50\n",
            "1/1 [==============================] - 0s 4ms/step - loss: 1.1332 - mean_squared_error: 1.1332\n",
            "Epoch 37/50\n",
            "1/1 [==============================] - 0s 14ms/step - loss: 1.1207 - mean_squared_error: 1.1207\n",
            "Epoch 38/50\n",
            "1/1 [==============================] - 0s 7ms/step - loss: 1.1084 - mean_squared_error: 1.1084\n",
            "Epoch 39/50\n",
            "1/1 [==============================] - 0s 4ms/step - loss: 1.0961 - mean_squared_error: 1.0961\n",
            "Epoch 40/50\n",
            "1/1 [==============================] - 0s 5ms/step - loss: 1.0840 - mean_squared_error: 1.0840\n",
            "Epoch 41/50\n",
            "1/1 [==============================] - 0s 6ms/step - loss: 1.0720 - mean_squared_error: 1.0720\n",
            "Epoch 42/50\n",
            "1/1 [==============================] - 0s 6ms/step - loss: 1.0602 - mean_squared_error: 1.0602\n",
            "Epoch 43/50\n",
            "1/1 [==============================] - 0s 8ms/step - loss: 1.0485 - mean_squared_error: 1.0485\n",
            "Epoch 44/50\n",
            "1/1 [==============================] - 0s 4ms/step - loss: 1.0369 - mean_squared_error: 1.0369\n",
            "Epoch 45/50\n",
            "1/1 [==============================] - 0s 6ms/step - loss: 1.0254 - mean_squared_error: 1.0254\n",
            "Epoch 46/50\n",
            "1/1 [==============================] - 0s 8ms/step - loss: 1.0141 - mean_squared_error: 1.0141\n",
            "Epoch 47/50\n",
            "1/1 [==============================] - 0s 6ms/step - loss: 1.0029 - mean_squared_error: 1.0029\n",
            "Epoch 48/50\n",
            "1/1 [==============================] - 0s 6ms/step - loss: 0.9918 - mean_squared_error: 0.9918\n",
            "Epoch 49/50\n",
            "1/1 [==============================] - 0s 7ms/step - loss: 0.9808 - mean_squared_error: 0.9808\n",
            "Epoch 50/50\n",
            "1/1 [==============================] - 0s 7ms/step - loss: 0.9700 - mean_squared_error: 0.9700\n"
          ],
          "name": "stdout"
        }
      ]
    },
    {
      "cell_type": "code",
      "metadata": {
        "colab": {
          "base_uri": "https://localhost:8080/"
        },
        "id": "yvV38Xg2iLep",
        "outputId": "4fe683f2-0256-498e-c47a-4d9e2e704822"
      },
      "source": [
        "history.history['loss']"
      ],
      "execution_count": null,
      "outputs": [
        {
          "output_type": "execute_result",
          "data": {
            "text/plain": [
              "[1.6501939296722412,\n",
              " 1.6334171295166016,\n",
              " 1.616743803024292,\n",
              " 1.6001758575439453,\n",
              " 1.5837154388427734,\n",
              " 1.5673637390136719,\n",
              " 1.5511223077774048,\n",
              " 1.5349925756454468,\n",
              " 1.5189769268035889,\n",
              " 1.5030759572982788,\n",
              " 1.4872913360595703,\n",
              " 1.471624493598938,\n",
              " 1.4560766220092773,\n",
              " 1.4406487941741943,\n",
              " 1.425342321395874,\n",
              " 1.410158395767212,\n",
              " 1.3950977325439453,\n",
              " 1.3801615238189697,\n",
              " 1.365350365638733,\n",
              " 1.3506650924682617,\n",
              " 1.3361066579818726,\n",
              " 1.3216753005981445,\n",
              " 1.3073720932006836,\n",
              " 1.2931970357894897,\n",
              " 1.2791509628295898,\n",
              " 1.2652339935302734,\n",
              " 1.2514463663101196,\n",
              " 1.2377887964248657,\n",
              " 1.224260687828064,\n",
              " 1.2108628749847412,\n",
              " 1.1975951194763184,\n",
              " 1.1844574213027954,\n",
              " 1.171449899673462,\n",
              " 1.1585719585418701,\n",
              " 1.1458241939544678,\n",
              " 1.133205771446228,\n",
              " 1.1207168102264404,\n",
              " 1.1083567142486572,\n",
              " 1.096125602722168,\n",
              " 1.0840227603912354,\n",
              " 1.0720478296279907,\n",
              " 1.060200572013855,\n",
              " 1.0484802722930908,\n",
              " 1.0368865728378296,\n",
              " 1.025418996810913,\n",
              " 1.0140769481658936,\n",
              " 1.0028597116470337,\n",
              " 0.9917667508125305,\n",
              " 0.9807974696159363,\n",
              " 0.9699514508247375]"
            ]
          },
          "metadata": {
            "tags": []
          },
          "execution_count": 10
        }
      ]
    },
    {
      "cell_type": "code",
      "metadata": {
        "colab": {
          "base_uri": "https://localhost:8080/"
        },
        "id": "s-1-jtG7iOVt",
        "outputId": "a8792c35-3f0c-4e45-edf0-91e236a90600"
      },
      "source": [
        "model.summary()\n",
        "# y = w1 * x + bias\n",
        "# trainable params-> 2"
      ],
      "execution_count": null,
      "outputs": [
        {
          "output_type": "stream",
          "text": [
            "Model: \"sequential\"\n",
            "_________________________________________________________________\n",
            "Layer (type)                 Output Shape              Param #   \n",
            "=================================================================\n",
            "dense (Dense)                (None, 1)                 2         \n",
            "=================================================================\n",
            "Total params: 2\n",
            "Trainable params: 2\n",
            "Non-trainable params: 0\n",
            "_________________________________________________________________\n"
          ],
          "name": "stdout"
        }
      ]
    },
    {
      "cell_type": "code",
      "metadata": {
        "colab": {
          "base_uri": "https://localhost:8080/"
        },
        "id": "eZV6g8bdojrl",
        "outputId": "3954714f-ceb7-488a-82cd-6b8b66303d84"
      },
      "source": [
        "model.get_weights()"
      ],
      "execution_count": null,
      "outputs": [
        {
          "output_type": "execute_result",
          "data": {
            "text/plain": [
              "[array([[-0.06371816]], dtype=float32), array([0.04803257], dtype=float32)]"
            ]
          },
          "metadata": {
            "tags": []
          },
          "execution_count": 12
        }
      ]
    },
    {
      "cell_type": "code",
      "metadata": {
        "id": "B8qhfv3bomYw"
      },
      "source": [
        "predictedvalues = model.predict(x)"
      ],
      "execution_count": null,
      "outputs": []
    },
    {
      "cell_type": "code",
      "metadata": {
        "colab": {
          "base_uri": "https://localhost:8080/"
        },
        "id": "qPhtczDQooS-",
        "outputId": "e7f8620e-f93e-49a4-963a-60d38947683c"
      },
      "source": [
        "predictedvalues"
      ],
      "execution_count": null,
      "outputs": [
        {
          "output_type": "execute_result",
          "data": {
            "text/plain": [
              "array([[-0.0156856 ],\n",
              "       [-0.07940376],\n",
              "       [-0.14312191],\n",
              "       [-0.20684008],\n",
              "       [-0.27055824],\n",
              "       [-0.33427638],\n",
              "       [-0.39799458],\n",
              "       [-0.46171272],\n",
              "       [-0.52543086],\n",
              "       [-0.58914906]], dtype=float32)"
            ]
          },
          "metadata": {
            "tags": []
          },
          "execution_count": 14
        }
      ]
    },
    {
      "cell_type": "code",
      "metadata": {
        "id": "LjE8zwE8oqTx"
      },
      "source": [
        "layer1 = keras.layers.Dense(10)\n",
        "layer2 = keras.layers.Dense(1)\n",
        "model = keras.models.Sequential([layer1, layer2])\n",
        "model.compile(loss= keras.losses.mean_squared_error, optimizer='adam', metrics=[keras.metrics.mean_squared_error])"
      ],
      "execution_count": null,
      "outputs": []
    },
    {
      "cell_type": "code",
      "metadata": {
        "colab": {
          "base_uri": "https://localhost:8080/"
        },
        "id": "8CvxEkb-os-I",
        "outputId": "b5d17e37-c4c9-4348-f887-6b414e241ebd"
      },
      "source": [
        "history = model.fit(x, y, epochs=100)"
      ],
      "execution_count": null,
      "outputs": [
        {
          "output_type": "stream",
          "text": [
            "Epoch 1/100\n",
            "1/1 [==============================] - 0s 411ms/step - loss: 7.2352 - mean_squared_error: 7.2352\n",
            "Epoch 2/100\n",
            "1/1 [==============================] - 0s 7ms/step - loss: 7.0198 - mean_squared_error: 7.0198\n",
            "Epoch 3/100\n",
            "1/1 [==============================] - 0s 4ms/step - loss: 6.8084 - mean_squared_error: 6.8084\n",
            "Epoch 4/100\n",
            "1/1 [==============================] - 0s 4ms/step - loss: 6.6009 - mean_squared_error: 6.6009\n",
            "Epoch 5/100\n",
            "1/1 [==============================] - 0s 5ms/step - loss: 6.3973 - mean_squared_error: 6.3973\n",
            "Epoch 6/100\n",
            "1/1 [==============================] - 0s 6ms/step - loss: 6.1978 - mean_squared_error: 6.1978\n",
            "Epoch 7/100\n",
            "1/1 [==============================] - 0s 5ms/step - loss: 6.0024 - mean_squared_error: 6.0024\n",
            "Epoch 8/100\n",
            "1/1 [==============================] - 0s 4ms/step - loss: 5.8111 - mean_squared_error: 5.8111\n",
            "Epoch 9/100\n",
            "1/1 [==============================] - 0s 5ms/step - loss: 5.6238 - mean_squared_error: 5.6238\n",
            "Epoch 10/100\n",
            "1/1 [==============================] - 0s 4ms/step - loss: 5.4407 - mean_squared_error: 5.4407\n",
            "Epoch 11/100\n",
            "1/1 [==============================] - 0s 8ms/step - loss: 5.2616 - mean_squared_error: 5.2616\n",
            "Epoch 12/100\n",
            "1/1 [==============================] - 0s 8ms/step - loss: 5.0868 - mean_squared_error: 5.0868\n",
            "Epoch 13/100\n",
            "1/1 [==============================] - 0s 4ms/step - loss: 4.9160 - mean_squared_error: 4.9160\n",
            "Epoch 14/100\n",
            "1/1 [==============================] - 0s 7ms/step - loss: 4.7493 - mean_squared_error: 4.7493\n",
            "Epoch 15/100\n",
            "1/1 [==============================] - 0s 8ms/step - loss: 4.5868 - mean_squared_error: 4.5868\n",
            "Epoch 16/100\n",
            "1/1 [==============================] - 0s 8ms/step - loss: 4.4283 - mean_squared_error: 4.4283\n",
            "Epoch 17/100\n",
            "1/1 [==============================] - 0s 6ms/step - loss: 4.2739 - mean_squared_error: 4.2739\n",
            "Epoch 18/100\n",
            "1/1 [==============================] - 0s 9ms/step - loss: 4.1236 - mean_squared_error: 4.1236\n",
            "Epoch 19/100\n",
            "1/1 [==============================] - 0s 15ms/step - loss: 3.9772 - mean_squared_error: 3.9772\n",
            "Epoch 20/100\n",
            "1/1 [==============================] - 0s 7ms/step - loss: 3.8348 - mean_squared_error: 3.8348\n",
            "Epoch 21/100\n",
            "1/1 [==============================] - 0s 12ms/step - loss: 3.6964 - mean_squared_error: 3.6964\n",
            "Epoch 22/100\n",
            "1/1 [==============================] - 0s 8ms/step - loss: 3.5618 - mean_squared_error: 3.5618\n",
            "Epoch 23/100\n",
            "1/1 [==============================] - 0s 5ms/step - loss: 3.4311 - mean_squared_error: 3.4311\n",
            "Epoch 24/100\n",
            "1/1 [==============================] - 0s 8ms/step - loss: 3.3041 - mean_squared_error: 3.3041\n",
            "Epoch 25/100\n",
            "1/1 [==============================] - 0s 7ms/step - loss: 3.1810 - mean_squared_error: 3.1810\n",
            "Epoch 26/100\n",
            "1/1 [==============================] - 0s 5ms/step - loss: 3.0615 - mean_squared_error: 3.0615\n",
            "Epoch 27/100\n",
            "1/1 [==============================] - 0s 7ms/step - loss: 2.9457 - mean_squared_error: 2.9457\n",
            "Epoch 28/100\n",
            "1/1 [==============================] - 0s 7ms/step - loss: 2.8334 - mean_squared_error: 2.8334\n",
            "Epoch 29/100\n",
            "1/1 [==============================] - 0s 7ms/step - loss: 2.7247 - mean_squared_error: 2.7247\n",
            "Epoch 30/100\n",
            "1/1 [==============================] - 0s 7ms/step - loss: 2.6194 - mean_squared_error: 2.6194\n",
            "Epoch 31/100\n",
            "1/1 [==============================] - 0s 7ms/step - loss: 2.5175 - mean_squared_error: 2.5175\n",
            "Epoch 32/100\n",
            "1/1 [==============================] - 0s 7ms/step - loss: 2.4190 - mean_squared_error: 2.4190\n",
            "Epoch 33/100\n",
            "1/1 [==============================] - 0s 5ms/step - loss: 2.3237 - mean_squared_error: 2.3237\n",
            "Epoch 34/100\n",
            "1/1 [==============================] - 0s 5ms/step - loss: 2.2317 - mean_squared_error: 2.2317\n",
            "Epoch 35/100\n",
            "1/1 [==============================] - 0s 16ms/step - loss: 2.1428 - mean_squared_error: 2.1428\n",
            "Epoch 36/100\n",
            "1/1 [==============================] - 0s 7ms/step - loss: 2.0570 - mean_squared_error: 2.0570\n",
            "Epoch 37/100\n",
            "1/1 [==============================] - 0s 7ms/step - loss: 1.9742 - mean_squared_error: 1.9742\n",
            "Epoch 38/100\n",
            "1/1 [==============================] - 0s 6ms/step - loss: 1.8944 - mean_squared_error: 1.8944\n",
            "Epoch 39/100\n",
            "1/1 [==============================] - 0s 6ms/step - loss: 1.8174 - mean_squared_error: 1.8174\n",
            "Epoch 40/100\n",
            "1/1 [==============================] - 0s 6ms/step - loss: 1.7432 - mean_squared_error: 1.7432\n",
            "Epoch 41/100\n",
            "1/1 [==============================] - 0s 8ms/step - loss: 1.6718 - mean_squared_error: 1.6718\n",
            "Epoch 42/100\n",
            "1/1 [==============================] - 0s 5ms/step - loss: 1.6031 - mean_squared_error: 1.6031\n",
            "Epoch 43/100\n",
            "1/1 [==============================] - 0s 5ms/step - loss: 1.5370 - mean_squared_error: 1.5370\n",
            "Epoch 44/100\n",
            "1/1 [==============================] - 0s 10ms/step - loss: 1.4734 - mean_squared_error: 1.4734\n",
            "Epoch 45/100\n",
            "1/1 [==============================] - 0s 11ms/step - loss: 1.4123 - mean_squared_error: 1.4123\n",
            "Epoch 46/100\n",
            "1/1 [==============================] - 0s 6ms/step - loss: 1.3537 - mean_squared_error: 1.3537\n",
            "Epoch 47/100\n",
            "1/1 [==============================] - 0s 5ms/step - loss: 1.2973 - mean_squared_error: 1.2973\n",
            "Epoch 48/100\n",
            "1/1 [==============================] - 0s 9ms/step - loss: 1.2433 - mean_squared_error: 1.2433\n",
            "Epoch 49/100\n",
            "1/1 [==============================] - 0s 5ms/step - loss: 1.1915 - mean_squared_error: 1.1915\n",
            "Epoch 50/100\n",
            "1/1 [==============================] - 0s 9ms/step - loss: 1.1418 - mean_squared_error: 1.1418\n",
            "Epoch 51/100\n",
            "1/1 [==============================] - 0s 5ms/step - loss: 1.0942 - mean_squared_error: 1.0942\n",
            "Epoch 52/100\n",
            "1/1 [==============================] - 0s 9ms/step - loss: 1.0487 - mean_squared_error: 1.0487\n",
            "Epoch 53/100\n",
            "1/1 [==============================] - 0s 5ms/step - loss: 1.0051 - mean_squared_error: 1.0051\n",
            "Epoch 54/100\n",
            "1/1 [==============================] - 0s 6ms/step - loss: 0.9634 - mean_squared_error: 0.9634\n",
            "Epoch 55/100\n",
            "1/1 [==============================] - 0s 8ms/step - loss: 0.9236 - mean_squared_error: 0.9236\n",
            "Epoch 56/100\n",
            "1/1 [==============================] - 0s 5ms/step - loss: 0.8855 - mean_squared_error: 0.8855\n",
            "Epoch 57/100\n",
            "1/1 [==============================] - 0s 8ms/step - loss: 0.8492 - mean_squared_error: 0.8492\n",
            "Epoch 58/100\n",
            "1/1 [==============================] - 0s 18ms/step - loss: 0.8146 - mean_squared_error: 0.8146\n",
            "Epoch 59/100\n",
            "1/1 [==============================] - 0s 6ms/step - loss: 0.7815 - mean_squared_error: 0.7815\n",
            "Epoch 60/100\n",
            "1/1 [==============================] - 0s 9ms/step - loss: 0.7500 - mean_squared_error: 0.7500\n",
            "Epoch 61/100\n",
            "1/1 [==============================] - 0s 14ms/step - loss: 0.7201 - mean_squared_error: 0.7201\n",
            "Epoch 62/100\n",
            "1/1 [==============================] - 0s 8ms/step - loss: 0.6915 - mean_squared_error: 0.6915\n",
            "Epoch 63/100\n",
            "1/1 [==============================] - 0s 10ms/step - loss: 0.6644 - mean_squared_error: 0.6644\n",
            "Epoch 64/100\n",
            "1/1 [==============================] - 0s 6ms/step - loss: 0.6387 - mean_squared_error: 0.6387\n",
            "Epoch 65/100\n",
            "1/1 [==============================] - 0s 10ms/step - loss: 0.6142 - mean_squared_error: 0.6142\n",
            "Epoch 66/100\n",
            "1/1 [==============================] - 0s 7ms/step - loss: 0.5909 - mean_squared_error: 0.5909\n",
            "Epoch 67/100\n",
            "1/1 [==============================] - 0s 10ms/step - loss: 0.5689 - mean_squared_error: 0.5689\n",
            "Epoch 68/100\n",
            "1/1 [==============================] - 0s 5ms/step - loss: 0.5481 - mean_squared_error: 0.5481\n",
            "Epoch 69/100\n",
            "1/1 [==============================] - 0s 9ms/step - loss: 0.5283 - mean_squared_error: 0.5283\n",
            "Epoch 70/100\n",
            "1/1 [==============================] - 0s 6ms/step - loss: 0.5096 - mean_squared_error: 0.5096\n",
            "Epoch 71/100\n",
            "1/1 [==============================] - 0s 25ms/step - loss: 0.4919 - mean_squared_error: 0.4919\n",
            "Epoch 72/100\n",
            "1/1 [==============================] - 0s 6ms/step - loss: 0.4752 - mean_squared_error: 0.4752\n",
            "Epoch 73/100\n",
            "1/1 [==============================] - 0s 9ms/step - loss: 0.4594 - mean_squared_error: 0.4594\n",
            "Epoch 74/100\n",
            "1/1 [==============================] - 0s 5ms/step - loss: 0.4446 - mean_squared_error: 0.4446\n",
            "Epoch 75/100\n",
            "1/1 [==============================] - 0s 10ms/step - loss: 0.4305 - mean_squared_error: 0.4305\n",
            "Epoch 76/100\n",
            "1/1 [==============================] - 0s 6ms/step - loss: 0.4173 - mean_squared_error: 0.4173\n",
            "Epoch 77/100\n",
            "1/1 [==============================] - 0s 5ms/step - loss: 0.4049 - mean_squared_error: 0.4049\n",
            "Epoch 78/100\n",
            "1/1 [==============================] - 0s 12ms/step - loss: 0.3933 - mean_squared_error: 0.3933\n",
            "Epoch 79/100\n",
            "1/1 [==============================] - 0s 6ms/step - loss: 0.3823 - mean_squared_error: 0.3823\n",
            "Epoch 80/100\n",
            "1/1 [==============================] - 0s 10ms/step - loss: 0.3720 - mean_squared_error: 0.3720\n",
            "Epoch 81/100\n",
            "1/1 [==============================] - 0s 5ms/step - loss: 0.3624 - mean_squared_error: 0.3624\n",
            "Epoch 82/100\n",
            "1/1 [==============================] - 0s 6ms/step - loss: 0.3533 - mean_squared_error: 0.3533\n",
            "Epoch 83/100\n",
            "1/1 [==============================] - 0s 7ms/step - loss: 0.3449 - mean_squared_error: 0.3449\n",
            "Epoch 84/100\n",
            "1/1 [==============================] - 0s 8ms/step - loss: 0.3370 - mean_squared_error: 0.3370\n",
            "Epoch 85/100\n",
            "1/1 [==============================] - 0s 5ms/step - loss: 0.3296 - mean_squared_error: 0.3296\n",
            "Epoch 86/100\n",
            "1/1 [==============================] - 0s 10ms/step - loss: 0.3227 - mean_squared_error: 0.3227\n",
            "Epoch 87/100\n",
            "1/1 [==============================] - 0s 5ms/step - loss: 0.3163 - mean_squared_error: 0.3163\n",
            "Epoch 88/100\n",
            "1/1 [==============================] - 0s 6ms/step - loss: 0.3103 - mean_squared_error: 0.3103\n",
            "Epoch 89/100\n",
            "1/1 [==============================] - 0s 9ms/step - loss: 0.3048 - mean_squared_error: 0.3048\n",
            "Epoch 90/100\n",
            "1/1 [==============================] - 0s 5ms/step - loss: 0.2996 - mean_squared_error: 0.2996\n",
            "Epoch 91/100\n",
            "1/1 [==============================] - 0s 8ms/step - loss: 0.2948 - mean_squared_error: 0.2948\n",
            "Epoch 92/100\n",
            "1/1 [==============================] - 0s 6ms/step - loss: 0.2904 - mean_squared_error: 0.2904\n",
            "Epoch 93/100\n",
            "1/1 [==============================] - 0s 8ms/step - loss: 0.2863 - mean_squared_error: 0.2863\n",
            "Epoch 94/100\n",
            "1/1 [==============================] - 0s 5ms/step - loss: 0.2825 - mean_squared_error: 0.2825\n",
            "Epoch 95/100\n",
            "1/1 [==============================] - 0s 7ms/step - loss: 0.2790 - mean_squared_error: 0.2790\n",
            "Epoch 96/100\n",
            "1/1 [==============================] - 0s 5ms/step - loss: 0.2758 - mean_squared_error: 0.2758\n",
            "Epoch 97/100\n",
            "1/1 [==============================] - 0s 9ms/step - loss: 0.2728 - mean_squared_error: 0.2728\n",
            "Epoch 98/100\n",
            "1/1 [==============================] - 0s 5ms/step - loss: 0.2700 - mean_squared_error: 0.2700\n",
            "Epoch 99/100\n",
            "1/1 [==============================] - 0s 10ms/step - loss: 0.2675 - mean_squared_error: 0.2675\n",
            "Epoch 100/100\n",
            "1/1 [==============================] - 0s 5ms/step - loss: 0.2652 - mean_squared_error: 0.2652\n"
          ],
          "name": "stdout"
        }
      ]
    },
    {
      "cell_type": "code",
      "metadata": {
        "colab": {
          "base_uri": "https://localhost:8080/"
        },
        "id": "nyLyVQt6ovK4",
        "outputId": "eba3f791-4746-4b14-c7b8-e8f520204dd1"
      },
      "source": [
        "model.summary()\n",
        "# broken numbers"
      ],
      "execution_count": null,
      "outputs": [
        {
          "output_type": "stream",
          "text": [
            "Model: \"sequential_1\"\n",
            "_________________________________________________________________\n",
            "Layer (type)                 Output Shape              Param #   \n",
            "=================================================================\n",
            "dense_1 (Dense)              (None, 10)                20        \n",
            "_________________________________________________________________\n",
            "dense_2 (Dense)              (None, 1)                 11        \n",
            "=================================================================\n",
            "Total params: 31\n",
            "Trainable params: 31\n",
            "Non-trainable params: 0\n",
            "_________________________________________________________________\n"
          ],
          "name": "stdout"
        }
      ]
    },
    {
      "cell_type": "code",
      "metadata": {
        "id": "7XFprMn7oyRW"
      },
      "source": [
        "\n",
        "y = model.predict(x)"
      ],
      "execution_count": null,
      "outputs": []
    },
    {
      "cell_type": "code",
      "metadata": {
        "colab": {
          "base_uri": "https://localhost:8080/"
        },
        "id": "appfX9kso0Q9",
        "outputId": "6b5b5cf7-f671-43dc-c8af-d3f1f7b94e2e"
      },
      "source": [
        "y"
      ],
      "execution_count": null,
      "outputs": [
        {
          "output_type": "execute_result",
          "data": {
            "text/plain": [
              "array([[0.26137745],\n",
              "       [0.28293633],\n",
              "       [0.30449513],\n",
              "       [0.32605395],\n",
              "       [0.34761274],\n",
              "       [0.36917153],\n",
              "       [0.39073056],\n",
              "       [0.4122891 ],\n",
              "       [0.43384767],\n",
              "       [0.4554067 ]], dtype=float32)"
            ]
          },
          "metadata": {
            "tags": []
          },
          "execution_count": 19
        }
      ]
    },
    {
      "cell_type": "code",
      "metadata": {
        "id": "bBP7DEYko2Iw"
      },
      "source": [
        "# 3 Layer- Fully Connected- Neural Network\n",
        "layer1 = keras.layers.Dense(8)\n",
        "layer2 = keras.layers.Dense(256)\n",
        "layer3 = keras.layers.Dense(1)\n",
        "model = keras.models.Sequential([layer1, layer2, layer3])\n",
        "model.compile(loss= keras.losses.mean_squared_error, optimizer='adam', metrics=[keras.metrics.mean_squared_error])"
      ],
      "execution_count": null,
      "outputs": []
    },
    {
      "cell_type": "code",
      "metadata": {
        "colab": {
          "base_uri": "https://localhost:8080/"
        },
        "id": "pejQ2ZVco6Rj",
        "outputId": "f9b2cfee-0fd4-42be-b3bb-45864f3f5d80"
      },
      "source": [
        "history = model.fit(x, y, epochs=100, verbose=0) # dont show output here\n",
        "predictions = model.predict(x)\n",
        "predictions"
      ],
      "execution_count": null,
      "outputs": [
        {
          "output_type": "execute_result",
          "data": {
            "text/plain": [
              "array([[0.2632034 ],\n",
              "       [0.2841118 ],\n",
              "       [0.30502015],\n",
              "       [0.32592848],\n",
              "       [0.34683686],\n",
              "       [0.36774516],\n",
              "       [0.38865352],\n",
              "       [0.40956175],\n",
              "       [0.4304702 ],\n",
              "       [0.45137835]], dtype=float32)"
            ]
          },
          "metadata": {
            "tags": []
          },
          "execution_count": 21
        }
      ]
    },
    {
      "cell_type": "code",
      "metadata": {
        "id": "9Rb2LOi8o8s3",
        "colab": {
          "base_uri": "https://localhost:8080/"
        },
        "outputId": "a8083e3b-f1dd-4725-efb7-a74a5f815579"
      },
      "source": [
        "print(model.get_weights())"
      ],
      "execution_count": null,
      "outputs": [
        {
          "output_type": "stream",
          "text": [
            "[array([[-0.56926155,  0.3150539 , -0.39617297, -0.01670024, -0.7971028 ,\n",
            "        -0.3520857 ,  0.32325637,  0.01765651]], dtype=float32), array([-0.00371803,  0.01013493, -0.00961919,  0.00040853,  0.01259252,\n",
            "       -0.00959744, -0.01437599, -0.0124664 ], dtype=float32), array([[ 0.0863228 , -0.1250684 , -0.1337608 , ..., -0.02052481,\n",
            "         0.01787866, -0.06624793],\n",
            "       [ 0.12108993, -0.02491543,  0.0592386 , ...,  0.1441855 ,\n",
            "         0.04882611,  0.10317537],\n",
            "       [-0.10446347,  0.10489257,  0.0453778 , ...,  0.08950806,\n",
            "         0.02030642,  0.04669547],\n",
            "       ...,\n",
            "       [ 0.06422826,  0.12293202, -0.02676099, ...,  0.00652668,\n",
            "        -0.07011507,  0.12309703],\n",
            "       [ 0.09111975, -0.07716595,  0.09616631, ...,  0.00114058,\n",
            "         0.00581763, -0.02389668],\n",
            "       [-0.10538518,  0.13752666, -0.09337526, ..., -0.13057086,\n",
            "        -0.11519385, -0.02913094]], dtype=float32), array([-0.01111387, -0.01107822, -0.0112228 , -0.0107106 ,  0.01127314,\n",
            "       -0.01147984, -0.01124737,  0.01124778, -0.01110098,  0.01215309,\n",
            "        0.0112887 ,  0.01128826,  0.01109746,  0.01100757, -0.01135806,\n",
            "        0.01175112, -0.01122916,  0.01091317,  0.01035083,  0.01135096,\n",
            "       -0.01150118, -0.01025829, -0.01124965, -0.01112525,  0.01111846,\n",
            "        0.01134586, -0.01129408,  0.01094673, -0.01135287,  0.01124532,\n",
            "        0.01091723, -0.01119512,  0.0112697 , -0.01124059, -0.01107098,\n",
            "       -0.01124419, -0.0110387 , -0.01100432,  0.01126257,  0.01087406,\n",
            "        0.01124034,  0.01111527, -0.01097571,  0.01112884,  0.01130564,\n",
            "       -0.01127334,  0.0111724 , -0.01133189, -0.01107294,  0.01218043,\n",
            "       -0.01074737, -0.01084915,  0.01144752,  0.01128827, -0.01119824,\n",
            "       -0.01124203,  0.01171001,  0.01125731,  0.01098106,  0.01109933,\n",
            "        0.01093055, -0.01109943, -0.01110564, -0.01177903,  0.0110936 ,\n",
            "        0.01092006, -0.01111174, -0.01063785,  0.01133537, -0.01123998,\n",
            "       -0.01144868,  0.01111219,  0.01108425,  0.01083623, -0.01110795,\n",
            "        0.0112352 , -0.01124486,  0.01095362,  0.01110283, -0.01057547,\n",
            "       -0.01122913, -0.01126771, -0.01112229,  0.01103934, -0.01108256,\n",
            "        0.01034557,  0.01111984, -0.01106584,  0.01134967,  0.01388181,\n",
            "       -0.01432713,  0.01109597,  0.01100308, -0.01102007, -0.01083015,\n",
            "       -0.01123118,  0.01124446, -0.01058132, -0.01133317, -0.01105826,\n",
            "        0.01064611,  0.01112653,  0.0112603 ,  0.01074202, -0.0111233 ,\n",
            "        0.01096053, -0.01108898,  0.01116225,  0.0113246 ,  0.01107177,\n",
            "       -0.0111249 , -0.01108261, -0.0113103 , -0.01110389,  0.01129689,\n",
            "        0.01127179, -0.01124663,  0.01108029, -0.01143172, -0.01103518,\n",
            "        0.01105974,  0.01104436, -0.01103054, -0.01132642, -0.01097446,\n",
            "       -0.01097073, -0.01059882, -0.01125934,  0.01108111, -0.01164567,\n",
            "       -0.0110826 ,  0.01109764,  0.01089465, -0.01101374,  0.01124499,\n",
            "       -0.01093025, -0.01109038, -0.00962478,  0.01128922, -0.01122988,\n",
            "       -0.01126399, -0.01026964, -0.00844471,  0.01124505,  0.01123905,\n",
            "        0.01069149,  0.0112389 , -0.01111708, -0.01105159,  0.01107333,\n",
            "        0.01125229,  0.01124575,  0.01108789,  0.01130304, -0.01110994,\n",
            "        0.01127533,  0.01112184, -0.01104091,  0.01097279,  0.01099617,\n",
            "       -0.0112429 , -0.01103552, -0.0112839 , -0.01125298,  0.01566816,\n",
            "       -0.01139412,  0.01110967,  0.01125761, -0.01052904,  0.01127161,\n",
            "       -0.01127856, -0.01108416, -0.01171853, -0.01087342, -0.01047784,\n",
            "       -0.01141311, -0.01102559, -0.01107768,  0.01108361, -0.01093582,\n",
            "       -0.01110317, -0.01092658,  0.01124365,  0.01103975,  0.01149029,\n",
            "        0.01123357,  0.01109827, -0.01111617,  0.01125477,  0.0114802 ,\n",
            "       -0.01120958, -0.01108111,  0.0110246 ,  0.01069949,  0.01129378,\n",
            "       -0.01133346, -0.01120134, -0.00978491, -0.01111755, -0.01123535,\n",
            "       -0.01161779,  0.0112335 ,  0.0113994 , -0.01125838,  0.01122263,\n",
            "       -0.01108059,  0.01156677,  0.01131667, -0.01131722,  0.01101278,\n",
            "       -0.01126882, -0.01073383,  0.0112696 , -0.01146656,  0.01109319,\n",
            "        0.01124877, -0.01124044,  0.01089734, -0.01235891, -0.01129552,\n",
            "        0.0110931 ,  0.01124105,  0.01125918,  0.01107668, -0.01071269,\n",
            "       -0.0094887 , -0.01084425, -0.0102805 , -0.01081473,  0.0112441 ,\n",
            "        0.0108566 ,  0.01126149, -0.0110849 ,  0.01110216, -0.01106673,\n",
            "       -0.01112486,  0.01130822,  0.01065075,  0.01122785, -0.01109562,\n",
            "        0.01112457,  0.01127698, -0.00993583, -0.01040089,  0.01132055,\n",
            "        0.01125822,  0.00959614,  0.01124118,  0.01120863, -0.01126495,\n",
            "        0.01106084,  0.01124473, -0.01108924,  0.01098893, -0.01106742,\n",
            "       -0.01098181], dtype=float32), array([[-0.12242842],\n",
            "       [-0.08053641],\n",
            "       [-0.1187356 ],\n",
            "       [-0.07269817],\n",
            "       [ 0.09097997],\n",
            "       [-0.02026575],\n",
            "       [-0.13487934],\n",
            "       [ 0.13298397],\n",
            "       [-0.10939914],\n",
            "       [ 0.00757326],\n",
            "       [ 0.08333084],\n",
            "       [ 0.07673503],\n",
            "       [ 0.10102268],\n",
            "       [ 0.05334843],\n",
            "       [-0.04340389],\n",
            "       [ 0.00864155],\n",
            "       [-0.1237677 ],\n",
            "       [ 0.03562833],\n",
            "       [ 0.01095763],\n",
            "       [ 0.04523374],\n",
            "       [-0.02547371],\n",
            "       [-0.0095364 ],\n",
            "       [-0.11876573],\n",
            "       [-0.14019524],\n",
            "       [ 0.14732961],\n",
            "       [ 0.03461909],\n",
            "       [-0.07194191],\n",
            "       [ 0.04187023],\n",
            "       [-0.04200149],\n",
            "       [ 0.12217715],\n",
            "       [ 0.09588692],\n",
            "       [-0.0665261 ],\n",
            "       [ 0.10321011],\n",
            "       [-0.14623491],\n",
            "       [-0.07499509],\n",
            "       [-0.1509853 ],\n",
            "       [-0.09876172],\n",
            "       [-0.09877142],\n",
            "       [ 0.09428052],\n",
            "       [ 0.02872498],\n",
            "       [ 0.12753877],\n",
            "       [ 0.14414719],\n",
            "       [-0.04395602],\n",
            "       [ 0.14353688],\n",
            "       [ 0.06184872],\n",
            "       [-0.08689883],\n",
            "       [ 0.06585202],\n",
            "       [-0.0494628 ],\n",
            "       [-0.11730554],\n",
            "       [ 0.00291483],\n",
            "       [-0.03717595],\n",
            "       [-0.02880439],\n",
            "       [ 0.01444698],\n",
            "       [ 0.07951086],\n",
            "       [-0.07644653],\n",
            "       [-0.12428255],\n",
            "       [ 0.01314739],\n",
            "       [ 0.10742804],\n",
            "       [ 0.04984581],\n",
            "       [ 0.1109323 ],\n",
            "       [ 0.05460993],\n",
            "       [-0.11441027],\n",
            "       [-0.10439679],\n",
            "       [-0.01285921],\n",
            "       [ 0.126877  ],\n",
            "       [ 0.04192448],\n",
            "       [-0.13572665],\n",
            "       [-0.08140471],\n",
            "       [ 0.05453652],\n",
            "       [-0.11534503],\n",
            "       [-0.02691254],\n",
            "       [ 0.12510543],\n",
            "       [ 0.09518629],\n",
            "       [ 0.0286007 ],\n",
            "       [-0.11165453],\n",
            "       [ 0.10464358],\n",
            "       [-0.10482533],\n",
            "       [ 0.04290504],\n",
            "       [ 0.10521645],\n",
            "       [-0.01665495],\n",
            "       [-0.08679931],\n",
            "       [-0.08309288],\n",
            "       [-0.13729616],\n",
            "       [ 0.12323192],\n",
            "       [-0.08833122],\n",
            "       [ 0.01160857],\n",
            "       [ 0.12626298],\n",
            "       [-0.07241403],\n",
            "       [ 0.05025194],\n",
            "       [ 0.00199297],\n",
            "       [-0.00227309],\n",
            "       [ 0.11214776],\n",
            "       [ 0.0487721 ],\n",
            "       [-0.05782284],\n",
            "       [-0.03693644],\n",
            "       [-0.08007709],\n",
            "       [ 0.12846681],\n",
            "       [-0.04456214],\n",
            "       [-0.0549566 ],\n",
            "       [-0.12767646],\n",
            "       [ 0.04114724],\n",
            "       [ 0.14906053],\n",
            "       [ 0.11560942],\n",
            "       [ 0.01991604],\n",
            "       [-0.14233541],\n",
            "       [ 0.03866547],\n",
            "       [-0.0851438 ],\n",
            "       [ 0.08160977],\n",
            "       [ 0.0503659 ],\n",
            "       [ 0.08673424],\n",
            "       [-0.13539584],\n",
            "       [-0.08372895],\n",
            "       [-0.06570838],\n",
            "       [-0.13016446],\n",
            "       [ 0.06976867],\n",
            "       [ 0.07150514],\n",
            "       [-0.12526205],\n",
            "       [ 0.12164543],\n",
            "       [-0.02925895],\n",
            "       [-0.05995218],\n",
            "       [ 0.088499  ],\n",
            "       [ 0.09668533],\n",
            "       [-0.05589151],\n",
            "       [-0.05791889],\n",
            "       [-0.07668288],\n",
            "       [-0.04609143],\n",
            "       [-0.01593422],\n",
            "       [-0.11398258],\n",
            "       [ 0.11124693],\n",
            "       [-0.01692804],\n",
            "       [-0.0849972 ],\n",
            "       [ 0.11997499],\n",
            "       [ 0.03845523],\n",
            "       [-0.05673414],\n",
            "       [ 0.12696132],\n",
            "       [-0.09937911],\n",
            "       [-0.09042198],\n",
            "       [-0.00563519],\n",
            "       [ 0.03753912],\n",
            "       [-0.14637867],\n",
            "       [-0.0269663 ],\n",
            "       [-0.01030544],\n",
            "       [-0.00149163],\n",
            "       [ 0.14116845],\n",
            "       [ 0.14055596],\n",
            "       [ 0.01858946],\n",
            "       [ 0.14668812],\n",
            "       [-0.12586702],\n",
            "       [-0.07153112],\n",
            "       [ 0.07801027],\n",
            "       [ 0.12437045],\n",
            "       [ 0.11869663],\n",
            "       [ 0.11016203],\n",
            "       [ 0.06908891],\n",
            "       [-0.11404245],\n",
            "       [ 0.09592672],\n",
            "       [ 0.13070208],\n",
            "       [-0.06076838],\n",
            "       [ 0.04168687],\n",
            "       [ 0.05332499],\n",
            "       [-0.13965274],\n",
            "       [-0.060105  ],\n",
            "       [-0.08504261],\n",
            "       [-0.10363927],\n",
            "       [ 0.00034782],\n",
            "       [-0.03523456],\n",
            "       [ 0.11527443],\n",
            "       [ 0.10594101],\n",
            "       [-0.02278045],\n",
            "       [ 0.09729894],\n",
            "       [-0.03561193],\n",
            "       [-0.08542503],\n",
            "       [-0.01392594],\n",
            "       [-0.10703837],\n",
            "       [-0.03031091],\n",
            "       [-0.03094951],\n",
            "       [-0.05414201],\n",
            "       [-0.09750026],\n",
            "       [ 0.08503705],\n",
            "       [-0.0358555 ],\n",
            "       [-0.1080117 ],\n",
            "       [-0.04167574],\n",
            "       [ 0.14538373],\n",
            "       [ 0.06888532],\n",
            "       [ 0.00915356],\n",
            "       [ 0.12810351],\n",
            "       [ 0.11772898],\n",
            "       [-0.12448378],\n",
            "       [ 0.12436123],\n",
            "       [ 0.02784944],\n",
            "       [-0.0946525 ],\n",
            "       [-0.12089792],\n",
            "       [ 0.1277352 ],\n",
            "       [ 0.02697284],\n",
            "       [ 0.07784449],\n",
            "       [-0.05375253],\n",
            "       [-0.09353871],\n",
            "       [-0.01037127],\n",
            "       [-0.12118568],\n",
            "       [-0.11686351],\n",
            "       [-0.01721065],\n",
            "       [ 0.12721448],\n",
            "       [ 0.03404187],\n",
            "       [-0.09545568],\n",
            "       [ 0.03886967],\n",
            "       [-0.108528  ],\n",
            "       [ 0.02094533],\n",
            "       [ 0.06125114],\n",
            "       [-0.06321128],\n",
            "       [ 0.05275185],\n",
            "       [-0.08532869],\n",
            "       [-0.02034281],\n",
            "       [ 0.08219016],\n",
            "       [-0.02338046],\n",
            "       [ 0.10263488],\n",
            "       [ 0.1401353 ],\n",
            "       [-0.13265438],\n",
            "       [ 0.10091121],\n",
            "       [-0.00588967],\n",
            "       [-0.0731538 ],\n",
            "       [ 0.12046748],\n",
            "       [ 0.13613689],\n",
            "       [ 0.10222925],\n",
            "       [ 0.0785461 ],\n",
            "       [-0.01956386],\n",
            "       [-0.01150905],\n",
            "       [-0.0360953 ],\n",
            "       [-0.01002198],\n",
            "       [-0.0255252 ],\n",
            "       [ 0.10744253],\n",
            "       [ 0.02808267],\n",
            "       [ 0.11410555],\n",
            "       [-0.08468046],\n",
            "       [ 0.10639543],\n",
            "       [-0.14968552],\n",
            "       [-0.1381013 ],\n",
            "       [ 0.02147845],\n",
            "       [ 0.02569081],\n",
            "       [ 0.09756031],\n",
            "       [-0.09961066],\n",
            "       [ 0.14284796],\n",
            "       [ 0.06355017],\n",
            "       [-0.00767816],\n",
            "       [-0.0174513 ],\n",
            "       [ 0.0580144 ],\n",
            "       [ 0.1220217 ],\n",
            "       [ 0.02562331],\n",
            "       [ 0.11409837],\n",
            "       [ 0.1136639 ],\n",
            "       [-0.07774922],\n",
            "       [ 0.11277192],\n",
            "       [ 0.14675856],\n",
            "       [-0.10502865],\n",
            "       [ 0.05393826],\n",
            "       [-0.09865884],\n",
            "       [-0.04911131]], dtype=float32), array([0.01119251], dtype=float32)]\n"
          ],
          "name": "stdout"
        }
      ]
    },
    {
      "cell_type": "code",
      "metadata": {
        "id": "PiGr1Rnoo_Wf"
      },
      "source": [
        ""
      ],
      "execution_count": null,
      "outputs": []
    }
  ]
}